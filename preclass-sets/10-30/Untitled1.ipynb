{
 "cells": [
  {
   "cell_type": "markdown",
   "metadata": {},
   "source": [
    "Also interpret $\\operatorname{e}^{\\hat{\\alpha}}$, $\\operatorname{e}^{\\hat{\\beta}_1}$, $\\operatorname{e}^{\\hat{\\beta}_2}$, $\\operatorname{e}^{\\hat{\\beta}_3}$, and $\\operatorname{e}^{\\hat{\\beta}_4}$"
   ]
  },
  {
   "cell_type": "code",
   "execution_count": null,
   "metadata": {},
   "outputs": [],
   "source": []
  }
 ],
 "metadata": {
  "kernelspec": {
   "display_name": "Julia 1.2.0",
   "language": "julia",
   "name": "julia-1.2"
  },
  "language_info": {
   "file_extension": ".jl",
   "mimetype": "application/julia",
   "name": "julia",
   "version": "1.2.0"
  }
 },
 "nbformat": 4,
 "nbformat_minor": 4
}
