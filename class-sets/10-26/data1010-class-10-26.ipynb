{
  "cells": [
    {
      "cell_type": "code",
      "source": [
        "using Plots, Distributions, Roots\n",
        "default(legend = false)"
      ],
      "outputs": [
        {
          "output_type": "stream",
          "name": "stderr",
          "text": [
            "┌ Info: Precompiling Plots [91a5bcdd-55d7-5caf-9e0b-520d859cae80]\n",
            "└ @ Base loading.jl:1278\n",
            "┌ Info: Precompiling Distributions [31c24e10-a181-5473-b8eb-7969acd0382f]\n",
            "└ @ Base loading.jl:1278\n"
          ]
        }
      ],
      "execution_count": 1,
      "metadata": {}
    },
    {
      "cell_type": "markdown",
      "source": [
        "# Class Notebook\n",
        "**DATA 1010: Day 19**  \n",
        "**Likelihood ratio classification**  \n",
        "**Brown University**  \n",
        "**26 October 2020**"
      ],
      "metadata": {}
    },
    {
      "cell_type": "markdown",
      "source": [
        "**Exercise.**  \n",
        "What's the QDA decision threshold for a dataset with the given class-A and class-B observations? Use the `find_zero` function."
      ],
      "metadata": {}
    },
    {
      "cell_type": "code",
      "source": [
        "using Distributions, Roots\n",
        "A = [2.4, 1.5, 0.2, 3.4]\n",
        "B = [3.2, 4.8, 4.1]\n",
        "# find_zero( [function], [starting point] )"
      ],
      "outputs": [
        {
          "output_type": "execute_result",
          "execution_count": 2,
          "data": {
            "text/plain": "3-element Array{Float64,1}:\n 3.2\n 4.8\n 4.1"
          },
          "metadata": {}
        }
      ],
      "execution_count": 2,
      "metadata": {}
    }
  ],
  "metadata": {
    "@webio": {
      "lastCommId": "11c31776-403d-4fd3-bfc1-9dcf15dae68e",
      "lastKernelId": "53534f6d-81ba-4e5b-aecb-8c3bd69e021b"
    },
    "kernelspec": {
      "display_name": "Julia 1.5.1",
      "language": "julia",
      "name": "julia-1.5"
    },
    "language_info": {
      "file_extension": ".jl",
      "name": "julia",
      "mimetype": "application/julia",
      "version": "1.5.1"
    },
    "nteract": {
      "version": "0.25.1"
    }
  },
  "nbformat": 4,
  "nbformat_minor": 4
}