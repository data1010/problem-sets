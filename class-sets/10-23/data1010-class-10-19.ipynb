{
 "cells": [
  {
   "cell_type": "code",
   "execution_count": 1,
   "metadata": {},
   "outputs": [],
   "source": [
    "using Plots, Distributions, Roots\n",
    "default(legend = false)"
   ]
  },
  {
   "cell_type": "markdown",
   "metadata": {},
   "source": [
    "# Class Notebook\n",
    "**DATA 1010: Day 18**  \n",
    "**Linear Regression and Quadratic Discriminant Analysis**  \n",
    "**Brown University**  \n",
    "**23 October 2020**"
   ]
  },
  {
   "cell_type": "markdown",
   "metadata": {},
   "source": [
    "**Exercise.**  \n",
    "Describe qualitatively what you would expect the graph of the Nadaraya-Watson estimator to look like if we use a Gaussian kernel and a really small $\\lambda$."
   ]
  },
  {
   "cell_type": "markdown",
   "metadata": {},
   "source": [
    "**Exercise.**  \n",
    "What are three main ways of building inductive bias into a model?"
   ]
  },
  {
   "cell_type": "markdown",
   "metadata": {},
   "source": [
    "**Exercise.**  \n",
    "Suppose we pick a function $f$ uniformly at random from the set of all functions from $\\{0, 1, \\ldots, 100\\} \\times \\{0, 1, \\ldots 100\\}$ to $\\{0, 1, 2, \\ldots, 10^6\\}$. We want to find the input $(x_1, x_2)$ which **maximizes** $f(x_1, x_2)$. How should we got about that?"
   ]
  },
  {
   "cell_type": "markdown",
   "metadata": {},
   "source": [
    "**Exercise.**  \n",
    "What's the QDA decision threshold for a dataset with the given class-A and class-B observations? Use the `find_zero` function."
   ]
  },
  {
   "cell_type": "code",
   "execution_count": 2,
   "metadata": {},
   "outputs": [
    {
     "data": {
      "text/plain": [
       "3-element Array{Float64,1}:\n",
       " 3.2\n",
       " 4.8\n",
       " 4.1"
      ]
     },
     "execution_count": 2,
     "metadata": {},
     "output_type": "execute_result"
    }
   ],
   "source": [
    "using Distributions, Roots\n",
    "A = [2.4, 1.5, 0.2, 3.4]\n",
    "B = [3.2, 4.8, 4.1]\n",
    "# find_zero( [function], [starting point] )"
   ]
  }
 ],
 "metadata": {
  "@webio": {
   "lastCommId": "11c31776-403d-4fd3-bfc1-9dcf15dae68e",
   "lastKernelId": "53534f6d-81ba-4e5b-aecb-8c3bd69e021b"
  },
  "kernelspec": {
   "display_name": "Julia 1.5.1",
   "language": "julia",
   "name": "julia-1.5"
  },
  "language_info": {
   "file_extension": ".jl",
   "mimetype": "application/julia",
   "name": "julia",
   "version": "1.5.1"
  }
 },
 "nbformat": 4,
 "nbformat_minor": 4
}
